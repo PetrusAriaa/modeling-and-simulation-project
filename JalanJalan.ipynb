{
  "cells": [
    {
      "attachments": {},
      "cell_type": "markdown",
      "metadata": {
        "colab_type": "text",
        "id": "view-in-github"
      },
      "source": [
        "<a href=\"https://colab.research.google.com/github/RazzaTitian/modeling-and-simulation-project/blob/master/JalanJalan.ipynb\" target=\"_parent\"><img src=\"https://colab.research.google.com/assets/colab-badge.svg\" alt=\"Open In Colab\"/></a>"
      ]
    },
    {
      "cell_type": "code",
      "execution_count": null,
      "metadata": {
        "id": "H8BukH87slSH"
      },
      "outputs": [],
      "source": [
        "import numpy as np\n",
        "import matplotlib\n",
        "import matplotlib.pyplot as plt\n",
        "import matplotlib.animation as animation\n",
        "from math import *"
      ]
    },
    {
      "cell_type": "code",
      "execution_count": null,
      "metadata": {
        "id": "pDcVpi8Bsl98"
      },
      "outputs": [],
      "source": [
        "import random\n",
        "class Ant():\n",
        "    _ant_prob = 0\n",
        "    _move_prob = 0\n",
        "    \n",
        "    def __init__(self, shape:tuple, edge:int=3):\n",
        "        self.grid = np.zeros(shape)\n",
        "        self.EDGE = edge\n",
        "    \n",
        "    \n",
        "    def createAnt(self, ant_prob) -> None:\n",
        "        x = random.randint(self.EDGE, self.grid.shape[0] - self.EDGE)\n",
        "        y = random.randint(self.EDGE, self.grid.shape[0] - self.EDGE)\n",
        "        self.grid[x][y] = 1\n",
        "     \n",
        "    \n",
        "    def show_map(self):\n",
        "        return self.grid\n"
      ]
    },
    {
      "cell_type": "code",
      "execution_count": null,
      "metadata": {
        "id": "ag1HPR5lSyRO"
      },
      "outputs": [],
      "source": [
        "class randomWalk():\n",
        "  def swim(map:np.ndarray, cX:int, cY:int, n:int = 1):\n",
        "    \n",
        "    directions = [\"UP\", \"DOWN\", \"LEFT\", \"RIGHT\"]\n",
        "    step = random.choice(directions)\n",
        "    if step == \"RIGHT\":\n",
        "      map[cX+1, cY] = map[cX, cY]\n",
        "    elif step == \"LEFT\":\n",
        "      map[cX-1, cY] = map[cX, cY]\n",
        "    elif step == \"UP\":\n",
        "      map[cX, cY-1] = map[cX, cY]\n",
        "    elif step == \"DOWN\":\n",
        "      map[cX, cY+1] = map[cX, cY]\n",
        "    map[cX][cY] = 0\n",
        "    return map"
      ]
    },
    {
      "cell_type": "code",
      "execution_count": null,
      "metadata": {
        "colab": {
          "base_uri": "https://localhost:8080/",
          "height": 430
        },
        "id": "TaM1kpopxeML",
        "outputId": "c7b45171-b5e4-4375-b3c9-daf118b85c3a"
      },
      "outputs": [],
      "source": [
        "theAnt = Ant(shape=(10, 10), edge=1)\n",
        "theAnt.createAnt(ant_prob = 1)\n",
        "map = theAnt.show_map()\n",
        "fig = plt.imshow(map, cmap='Greens')"
      ]
    },
    {
      "cell_type": "code",
      "execution_count": null,
      "metadata": {
        "colab": {
          "base_uri": "https://localhost:8080/"
        },
        "id": "I3JZqNd64Ghq",
        "outputId": "937bf67e-9f20-4fa8-be20-8b5ede1a5c04"
      },
      "outputs": [],
      "source": [
        "print(map)"
      ]
    },
    {
      "cell_type": "code",
      "execution_count": null,
      "metadata": {
        "colab": {
          "base_uri": "https://localhost:8080/"
        },
        "id": "ossY53NZJ6Ki",
        "outputId": "ad53d078-94d5-4b86-b31a-b3fb46dbbc8c"
      },
      "outputs": [],
      "source": [
        "indexX = np.where(map == 1)[1][0]\n",
        "indexY = np.where(map == 1)[0][0]\n",
        "Xnum = indexX + 1\n",
        "Ynum = indexY + 1\n",
        "#This is the current X and Y position (not the index number)\n",
        "print(\"X is \" + str(Xnum), \"and Y is \" + str(Ynum))\n",
        "#And this is the index number\n",
        "print(\"Index for x is \" + str(indexX), \"and for Y is \" + str(indexY))"
      ]
    },
    {
      "cell_type": "code",
      "execution_count": null,
      "metadata": {
        "colab": {
          "base_uri": "https://localhost:8080/"
        },
        "id": "-MWw6oI9ODEb",
        "outputId": "3f5ac150-efc6-467f-e3fd-e51cbc70a261"
      },
      "outputs": [],
      "source": [
        "fishPos = randomWalk.swim(map, 7, 7)\n",
        "fishPos"
      ]
    },
    {
      "cell_type": "code",
      "execution_count": null,
      "metadata": {
        "colab": {
          "base_uri": "https://localhost:8080/"
        },
        "id": "qdWvyM2ZXF7J",
        "outputId": "d892ce5c-5d32-4b61-a974-999401dc7ebd"
      },
      "outputs": [],
      "source": [
        "indexX = np.where(fishPos == 1)[1][0]\n",
        "indexY = np.where(fishPos == 1)[0][0]\n",
        "Xnum = indexX + 1\n",
        "Ynum = indexY + 1\n",
        "#This is the current X and Y position (not the index number)\n",
        "print(\"X is \" + str(Xnum), \"and Y is \" + str(Ynum))\n",
        "#And this is the index number\n",
        "print(\"Index for x is \" + str(indexX), \"and for Y is \" + str(indexY))"
      ]
    },
    {
      "cell_type": "code",
      "execution_count": null,
      "metadata": {
        "colab": {
          "base_uri": "https://localhost:8080/",
          "height": 430
        },
        "id": "E3FS6CqlW6X7",
        "outputId": "ddf99657-3330-46be-cf7f-f5526b34d783"
      },
      "outputs": [],
      "source": [
        "fig2 = plt.imshow(fishPos, cmap = 'Greens')"
      ]
    }
  ],
  "metadata": {
    "colab": {
      "authorship_tag": "ABX9TyNIC2WrXLm+hfAReuhhUL+D",
      "include_colab_link": true,
      "provenance": []
    },
    "kernelspec": {
      "display_name": "Python 3",
      "name": "python3"
    },
    "language_info": {
      "name": "python"
    }
  },
  "nbformat": 4,
  "nbformat_minor": 0
}
