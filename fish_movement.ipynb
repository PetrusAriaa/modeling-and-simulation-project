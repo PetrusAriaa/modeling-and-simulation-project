{
  "nbformat": 4,
  "nbformat_minor": 0,
  "metadata": {
    "colab": {
      "provenance": [],
      "authorship_tag": "ABX9TyMXcvz2kJJuqeVZLaLaDVCC",
      "include_colab_link": true
    },
    "kernelspec": {
      "name": "python3",
      "display_name": "Python 3"
    },
    "language_info": {
      "name": "python"
    },
    "accelerator": "TPU"
  },
  "cells": [
    {
      "cell_type": "markdown",
      "metadata": {
        "id": "view-in-github",
        "colab_type": "text"
      },
      "source": [
        "<a href=\"https://colab.research.google.com/github/PetrusAriaa/modeling-and-simulation-project/blob/master/fish_movement.ipynb\" target=\"_parent\"><img src=\"https://colab.research.google.com/assets/colab-badge.svg\" alt=\"Open In Colab\"/></a>"
      ]
    },
    {
      "cell_type": "code",
      "source": [
        "%matplotlib inline"
      ],
      "metadata": {
        "id": "xDmn_bFLhE2E"
      },
      "execution_count": null,
      "outputs": []
    },
    {
      "cell_type": "code",
      "execution_count": null,
      "metadata": {
        "id": "65P8bifdFNHa"
      },
      "outputs": [],
      "source": [
        "import numpy as np\n",
        "import matplotlib.pyplot as plt\n",
        "from random import random\n",
        "from random import randint\n",
        "from copy import deepcopy as dc"
      ]
    },
    {
      "cell_type": "code",
      "source": [
        "global EMPTY, NORTH, EAST, SOUTH, WEST, STAY, BORDER\n",
        "\n",
        "EMPTY = 0\n",
        "NORTH = 1\n",
        "EAST = 2\n",
        "SOUTH = 3\n",
        "WEST = 4\n",
        "STAY = 5\n",
        "BORDER = 6\n"
      ],
      "metadata": {
        "id": "QwUt5w70IL7I"
      },
      "execution_count": null,
      "outputs": []
    },
    {
      "cell_type": "code",
      "source": [
        "class Fish():\n",
        "\n",
        "\n",
        "  def __init__(self, shape:int, n_fishes:int=10):\n",
        "    self._shape = shape+2\n",
        "    self._n_fishes = n_fishes\n",
        "    self._grid = []\n",
        "\n",
        "\n",
        "  def generate(self):\n",
        "    self._grid = BORDER*np.ones((self._shape, self._shape))\n",
        "    for i in range(1, self._shape-1):\n",
        "      for j in range(1, self._shape-1):\n",
        "        self._grid[i][j] = 0\n",
        "    self._summon()\n",
        "    return self._grid\n",
        "\n",
        "\n",
        "  def _summon(self):\n",
        "    for i in range(1, self._shape-1):\n",
        "      for j in range(1, self._shape-1):\n",
        "        if random() <= self._n_fishes/((self._shape-2)**2):\n",
        "          self._grid[i][j] = randint(0, 4)\n",
        "\n",
        "\n",
        "  def swim(self, time:int=1):\n",
        "    n = len(self._grid) - 2\n",
        "    for t in range(time):\n",
        "      for i in range(1, n+1):\n",
        "        for j in range(1, n+1):\n",
        "          Nfish = self._grid[i-1][j]\n",
        "          Efish = self._grid[i][j+1]\n",
        "          Sfish = self._grid[i+1][j]\n",
        "          Wfish = self._grid[i][j-1]\n",
        "          site = self._grid[i][j]\n",
        "          crowd_level = [Nfish, Efish, Sfish, Wfish]\n",
        "          directions = [NORTH, EAST, SOUTH, WEST]\n",
        "          \n",
        "          if self._grid[i][j] == NORTH:\n",
        "            if self._grid[i-1][j] == EMPTY:\n",
        "              self._grid[i][j] = EMPTY\n",
        "              self._grid[i-1][j] = np.random.choice([EAST, SOUTH, WEST])\n",
        "            else:\n",
        "              minimal_crowd = min(crowd_level)\n",
        "              preferable = []\n",
        "              if minimal_crowd == 1:\n",
        "                for index in range(4):\n",
        "                  if crowd_level[index] == 1:\n",
        "                    preferable.append(directions[index])\n",
        "                self._grid[i][j] = np.random.choice(preferable)\n",
        "              else:\n",
        "                self._grid[i][j] = np.random.choice(directions)\n",
        "          \n",
        "          if self._grid[i][j] == EAST:\n",
        "            if self._grid[i][j+1] == EMPTY:\n",
        "              self._grid[i][j] = EMPTY\n",
        "              self._grid[i][j+1] = np.random.choice([NORTH, SOUTH, WEST])\n",
        "            else:\n",
        "              minimal_crowd = min(crowd_level)\n",
        "              preferable = []\n",
        "              if minimal_crowd == 1:\n",
        "                for index in range(4):\n",
        "                  if crowd_level[index] == 1:\n",
        "                    preferable.append(directions[index])\n",
        "                self._grid[i][j] = np.random.choice(preferable)\n",
        "              else:\n",
        "                self._grid[i][j] = np.random.choice(directions)\n",
        "\n",
        "          if self._grid[i][j] == SOUTH:\n",
        "            if self._grid[i+1][j] == EMPTY:\n",
        "              self._grid[i][j] = EMPTY\n",
        "              self._grid[i+1][j] = np.random.choice([EAST, NORTH, WEST])\n",
        "            else:\n",
        "              minimal_crowd = min(crowd_level)\n",
        "              preferable = []\n",
        "              if minimal_crowd == 1:\n",
        "                for index in range(4):\n",
        "                  if crowd_level[index] == 1:\n",
        "                    preferable.append(directions[index])\n",
        "                self._grid[i][j] = np.random.choice(preferable)\n",
        "              else:\n",
        "                self._grid[i][j] = np.random.choice(directions)\n",
        "\n",
        "          if self._grid[i][j] == WEST:\n",
        "            if self._grid[i][j-1] == EMPTY:\n",
        "              self._grid[i][j] = EMPTY\n",
        "              self._grid[i][j-1] = np.random.choice([EAST, SOUTH, NORTH])\n",
        "            else:\n",
        "              minimal_crowd = min(crowd_level)\n",
        "              preferable = []\n",
        "              if minimal_crowd == 1:\n",
        "                for index in range(4):\n",
        "                  if crowd_level[index] == 1:\n",
        "                    preferable.append(directions[index])\n",
        "                self._grid[i][j] = np.random.choice(preferable)\n",
        "              else:\n",
        "                self._grid[i][j] = np.random.choice(directions)       \n",
        "    return self._grid\n",
        "\n",
        "\n",
        "  def sense(self, food_grid):\n",
        "    n = self._shape - 2\n",
        "    for i in range(1, n+1):\n",
        "      for j in range(1, n+1):\n",
        "        if self._grid[i][j] != EMPTY:\n",
        "          site = self._grid[i][j]\n",
        "          Nfood = food_grid[i-1][j]\n",
        "          Efood = food_grid[i][j+1]\n",
        "          Sfood = food_grid[i+1][j]\n",
        "          Wfood = food_grid[i][j-1]\n",
        "          sense_dir = [Nfood, Efood, Sfood, Wfood]\n",
        "          fish_dir = [NORTH, EAST, SOUTH, WEST]\n",
        "          max_sm = max(sense_dir)\n",
        "          direction = EMPTY\n",
        "          if site == EMPTY:\n",
        "            self._grid[i][j] = direction\n",
        "            continue\n",
        "          if max_sm > 1:\n",
        "            for index in range(4):\n",
        "              if sense_dir[index] == max_sm:\n",
        "                direction = fish_dir[index]\n",
        "            self._grid[i][j] = direction\n",
        "          else:\n",
        "            continue\n",
        "    return self._grid"
      ],
      "metadata": {
        "id": "0SVPTrEbFc7S"
      },
      "execution_count": null,
      "outputs": []
    },
    {
      "cell_type": "code",
      "source": [
        "class Food:\n",
        "\n",
        "\n",
        "  def __init__(self, shape:int):\n",
        "    self._shape = shape + 2\n",
        "    self._grid = np.zeros((self._shape, self._shape))\n",
        "    n = self._shape - 2\n",
        "    #specify pond area\n",
        "    for i in range(1, n+1):\n",
        "      for j in range(1, n+1):\n",
        "        self._grid[i, j] = 1\n",
        "  \n",
        "  def dissolve(self):\n",
        "    n = self._shape-2\n",
        "    for i in range(1, n+1):\n",
        "      for j in range(1, n+1):\n",
        "        if self._grid[i, j] > 1 and self._grid[i, j] != 100:\n",
        "          smell_level = self._grid[i, j] - 2\n",
        "          self._grid[i, j] = max(smell_level, 1)\n",
        "        if self._grid[i, j] == 100 and self._grid[i-1, j] == 1:\n",
        "          self._grid[i, j] = 1\n",
        "    return self._grid\n",
        "\n",
        "\n",
        "  def get_food_grid(self):\n",
        "    return self._grid\n",
        "  \n",
        "  def reset(self):\n",
        "    self._grid = np.zeros((self._shape, self._shape))\n",
        "    n = self._shape - 2\n",
        "    #specify pond area\n",
        "    for i in range(1, n+1):\n",
        "      for j in range(1, n+1):\n",
        "        self._grid[i, j] = 1\n",
        "    return self._grid\n",
        "\n",
        "  def feed(self, x_pos, y_pos):\n",
        "    n = self._shape-2\n",
        "    RADIUS = int(self._shape - .5*self._shape)\n",
        "    smell_level = 2\n",
        "    if self._grid[y_pos, x_pos] != 0:\n",
        "      for r in range(0, RADIUS):\n",
        "        for i in range(y_pos - r, y_pos + r + 1):\n",
        "          for j in range(x_pos - r, x_pos + r + 1):\n",
        "            try:\n",
        "              if i >= 0 and j >= 0:\n",
        "                if self._grid[i, j] == 1 or smell_level < self._grid[i, j]:\n",
        "                  self._grid[i, j] = max(self._grid[i, j]+smell_level, 1)\n",
        "              else:\n",
        "                continue\n",
        "            except:\n",
        "              continue\n",
        "      self._grid[y_pos, x_pos] = self._shape\n",
        "    return self._grid"
      ],
      "metadata": {
        "id": "d8oBUKkrk44P"
      },
      "execution_count": null,
      "outputs": []
    },
    {
      "cell_type": "markdown",
      "source": [
        "## Simulation"
      ],
      "metadata": {
        "id": "47hoZySfa9mO"
      }
    },
    {
      "cell_type": "code",
      "source": [
        "from matplotlib import animation\n",
        "from matplotlib.animation import FuncAnimation\n",
        "\n",
        "fish = Fish(shape=50, n_fishes=350)\n",
        "food = Food(50)\n",
        "fish_grid = fish.generate()\n",
        "food_grid = food.get_food_grid()\n",
        "\n",
        "fig, ax = plt.subplots()\n",
        "ax.axis('off')\n",
        "\n",
        "count = 0\n",
        "def update(i):\n",
        "  fish.sense(food_grid)\n",
        "  fish.swim()\n",
        "  if i == 10:\n",
        "    food.feed(40,40)\n",
        "  if i == 40:\n",
        "    food.feed(27,25)\n",
        "  if i == 60:\n",
        "    food.feed(10,10)\n",
        "  if i%2 == 0:\n",
        "    food.dissolve()\n",
        "  im = ax.imshow(fish_grid, cmap='Blues')\n",
        "  return im,\n",
        "\n",
        "animate = FuncAnimation(fig, update, repeat=True, frames=100, interval=50)\n",
        "\n",
        "Writer = animation.writers['ffmpeg']\n",
        "writer = Writer(fps=15, metadata=dict(artist='Me'), bitrate=1800)\n",
        "animate.save('final_result.gif', writer=writer)\n",
        "\n",
        "plt.show()"
      ],
      "metadata": {
        "colab": {
          "base_uri": "https://localhost:8080/",
          "height": 406
        },
        "id": "PkOW7JzxLCnG",
        "outputId": "e4d284d6-6270-47a3-afab-172beb610e2c"
      },
      "execution_count": null,
      "outputs": [
        {
          "output_type": "display_data",
          "data": {
            "text/plain": [
              "<Figure size 640x480 with 1 Axes>"
            ],
            "image/png": "[encoded data removed]"
          },
          "metadata": {}
        }
      ]
    }
  ]
}