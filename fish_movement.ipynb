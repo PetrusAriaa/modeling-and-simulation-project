{
  "cells": [
    {
      "attachments": {},
      "cell_type": "markdown",
      "metadata": {
        "colab_type": "text",
        "id": "view-in-github"
      },
      "source": [
        "<a href=\"https://colab.research.google.com/github/PetrusAriaa/modeling-and-simulation-project/blob/master/fish_movement.ipynb\" target=\"_parent\"><img src=\"https://colab.research.google.com/assets/colab-badge.svg\" alt=\"Open In Colab\"/></a>"
      ]
    },
    {
      "cell_type": "code",
      "execution_count": 1,
      "metadata": {
        "id": "xDmn_bFLhE2E"
      },
      "outputs": [],
      "source": [
        "%matplotlib inline"
      ]
    },
    {
      "cell_type": "code",
      "execution_count": 2,
      "metadata": {
        "id": "65P8bifdFNHa"
      },
      "outputs": [],
      "source": [
        "import matplotlib.pyplot as plt\n",
        "from matplotlib import animation\n",
        "from matplotlib.animation import FuncAnimation\n",
        "\n",
        "from fish_movement import Fish, Food"
      ]
    },
    {
      "attachments": {},
      "cell_type": "markdown",
      "metadata": {
        "id": "47hoZySfa9mO"
      },
      "source": [
        "## Simulation"
      ]
    },
    {
      "cell_type": "code",
      "execution_count": 3,
      "metadata": {
        "colab": {
          "base_uri": "https://localhost:8080/",
          "height": 406
        },
        "id": "PkOW7JzxLCnG",
        "outputId": "e4d284d6-6270-47a3-afab-172beb610e2c"
      },
      "outputs": [
        {
          "data": {
            "image/png": "[encoded data removed]",
            "text/plain": [
              "<Figure size 640x480 with 1 Axes>"
            ]
          },
          "metadata": {},
          "output_type": "display_data"
        }
      ],
      "source": [
        "fish = Fish(shape=50, n_fishes=100)\n",
        "food = Food(50)\n",
        "fish_grid = fish.generate()\n",
        "food_grid = food.get_food_grid()\n",
        "\n",
        "fig, ax = plt.subplots()\n",
        "ax.axis('off')\n",
        "\n",
        "count = 0\n",
        "def update(i):\n",
        "  fish.sense(food_grid)\n",
        "  fish.swim()\n",
        "  if i == 10:\n",
        "    food.feed(40,40)\n",
        "  if i == 40:\n",
        "    food.feed(27,25)\n",
        "  if i == 60:\n",
        "    food.feed(10,10)\n",
        "  if i%2 == 0:\n",
        "    food.dissolve()\n",
        "  im = ax.imshow(fish_grid, cmap='Blues')\n",
        "  return im,\n",
        "\n",
        "animate = FuncAnimation(fig, update, repeat=True, frames=50, interval=50)\n",
        "\n",
        "Writer = animation.writers['ffmpeg']\n",
        "writer = Writer(fps=15, metadata=dict(artist='Me'), bitrate=1800)\n",
        "animate.save('final_result.gif', writer=writer)\n",
        "\n",
        "plt.show()"
      ]
    }
  ],
  "metadata": {
    "accelerator": "TPU",
    "colab": {
      "authorship_tag": "ABX9TyMXcvz2kJJuqeVZLaLaDVCC",
      "include_colab_link": true,
      "provenance": []
    },
    "kernelspec": {
      "display_name": "Python 3",
      "name": "python3"
    },
    "language_info": {
      "codemirror_mode": {
        "name": "ipython",
        "version": 3
      },
      "file_extension": ".py",
      "mimetype": "text/x-python",
      "name": "python",
      "nbconvert_exporter": "python",
      "pygments_lexer": "ipython3",
      "version": "3.10.6"
    }
  },
  "nbformat": 4,
  "nbformat_minor": 0
}
